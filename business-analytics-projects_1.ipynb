{
  "nbformat": 4,
  "nbformat_minor": 0,
  "metadata": {
    "colab": {
      "name": "Untitled4.ipynb",
      "provenance": [],
      "authorship_tag": "ABX9TyPtNz0SJwEIHI6JNyp08RHj",
      "include_colab_link": true
    },
    "kernelspec": {
      "name": "python3",
      "display_name": "Python 3"
    },
    "language_info": {
      "name": "python"
    }
  },
  "cells": [
    {
      "cell_type": "markdown",
      "metadata": {
        "id": "view-in-github",
        "colab_type": "text"
      },
      "source": [
        "<a href=\"https://colab.research.google.com/github/smarak-dev/business-analytics-project/blob/main/business-analytics-projects_1.ipynb\" target=\"_parent\"><img src=\"https://colab.research.google.com/assets/colab-badge.svg\" alt=\"Open In Colab\"/></a>"
      ]
    },
    {
      "cell_type": "code",
      "metadata": {
        "id": "VuxeNsippHHs"
      },
      "source": [
        ""
      ],
      "execution_count": null,
      "outputs": []
    },
    {
      "cell_type": "markdown",
      "metadata": {
        "id": "tkzF0dXJpL1w"
      },
      "source": [
        "##Ingestion\n"
      ]
    },
    {
      "cell_type": "markdown",
      "metadata": {
        "id": "auNy52c_pRTk"
      },
      "source": [
        ""
      ]
    },
    {
      "cell_type": "code",
      "metadata": {
        "id": "uCKQQAo9pZi9"
      },
      "source": [
        ""
      ],
      "execution_count": null,
      "outputs": []
    },
    {
      "cell_type": "markdown",
      "metadata": {
        "id": "tNUJd5Kypast"
      },
      "source": [
        "##EDA\n"
      ]
    },
    {
      "cell_type": "code",
      "metadata": {
        "id": "x8DoxsdEpeH6"
      },
      "source": [
        ""
      ],
      "execution_count": null,
      "outputs": []
    },
    {
      "cell_type": "markdown",
      "metadata": {
        "id": "ly1GkYzmpeya"
      },
      "source": [
        "##Modelling"
      ]
    },
    {
      "cell_type": "code",
      "metadata": {
        "id": "dkoZEioXpjgc"
      },
      "source": [
        ""
      ],
      "execution_count": null,
      "outputs": []
    },
    {
      "cell_type": "markdown",
      "metadata": {
        "id": "AduURpcLpkAi"
      },
      "source": [
        "##Conclusion"
      ]
    },
    {
      "cell_type": "code",
      "metadata": {
        "id": "JPPTirRLpmV5"
      },
      "source": [
        ""
      ],
      "execution_count": null,
      "outputs": []
    }
  ]
}