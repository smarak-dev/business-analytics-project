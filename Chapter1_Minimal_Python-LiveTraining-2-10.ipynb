{
  "nbformat": 4,
  "nbformat_minor": 0,
  "metadata": {
    "colab": {
      "name": "Chapter1-Minimal-Python.ipynb",
      "provenance": [],
      "collapsed_sections": [
        "yh19-aXLq7Q1"
      ],
      "machine_shape": "hm",
      "include_colab_link": true
    },
    "kernelspec": {
      "name": "python3",
      "display_name": "Python 3"
    }
  },
  "cells": [
    {
      "cell_type": "markdown",
      "metadata": {
        "id": "view-in-github",
        "colab_type": "text"
      },
      "source": [
        "<a href=\"https://colab.research.google.com/github/smarak-dev/business-analytics-project/blob/main/Chapter1_Minimal_Python-LiveTraining-2-10.ipynb\" target=\"_parent\"><img src=\"https://colab.research.google.com/assets/colab-badge.svg\" alt=\"Open In Colab\"/></a>"
      ]
    },
    {
      "cell_type": "markdown",
      "metadata": {
        "id": "GMOTYzPfqcIE"
      },
      "source": [
        "# Chapter One: The Basics"
      ]
    },
    {
      "cell_type": "markdown",
      "metadata": {
        "id": "Mf3JE8qSqYI2"
      },
      "source": [
        "**This is a chapter in the book Minimal Python**\n",
        "\n",
        "* [Buy a copy on LeanPub](https://leanpub.com/minimalpython)\n",
        "* [Buy a copy from Amazon](https://www.amazon.com/Minimal-Python-efficient-programmer-onemillion2021-ebook/dp/B0855NSRR7)\n",
        "\n",
        "[*Licensed Under Attribution-NonCommercial-ShareAlike 4.0*](https://creativecommons.org/licenses/by-nc-sa/4.0/)\n",
        "\n",
        "![Minimal Python Book](https://d2sofvawe08yqg.cloudfront.net/minimalpython/hero?1582640276)"
      ]
    },
    {
      "cell_type": "markdown",
      "metadata": {
        "id": "yh19-aXLq7Q1"
      },
      "source": [
        "## Execute Commands in Colab Notebook"
      ]
    },
    {
      "cell_type": "code",
      "metadata": {
        "id": "knRQcVkxqw2u",
        "colab": {
          "base_uri": "https://localhost:8080/"
        },
        "outputId": "14aa86de-04fd-48e9-bc80-03e3dd4a3541"
      },
      "source": [
        "print(\"hello\")"
      ],
      "execution_count": 1,
      "outputs": [
        {
          "output_type": "stream",
          "text": [
            "hello\n"
          ],
          "name": "stdout"
        }
      ]
    },
    {
      "cell_type": "code",
      "metadata": {
        "id": "R5kUcEe0uRnf",
        "colab": {
          "base_uri": "https://localhost:8080/"
        },
        "outputId": "d9b230b0-5f8c-4ff7-cece-ca13ddb48ada"
      },
      "source": [
        "1+1"
      ],
      "execution_count": 2,
      "outputs": [
        {
          "output_type": "execute_result",
          "data": {
            "text/plain": [
              "2"
            ]
          },
          "metadata": {
            "tags": []
          },
          "execution_count": 2
        }
      ]
    },
    {
      "cell_type": "markdown",
      "metadata": {
        "id": "6hHdlLwlumHJ"
      },
      "source": [
        "*Challenge:  Do another calculation using addition or subtraction in the cell below (remember shift+return executes the cell)*"
      ]
    },
    {
      "cell_type": "code",
      "metadata": {
        "id": "D1F7tXsfu-u3",
        "colab": {
          "base_uri": "https://localhost:8080/"
        },
        "outputId": "60a269cb-f96b-46b4-c8c0-b6d9ac841d4e"
      },
      "source": [
        "2*3"
      ],
      "execution_count": 3,
      "outputs": [
        {
          "output_type": "execute_result",
          "data": {
            "text/plain": [
              "6"
            ]
          },
          "metadata": {
            "tags": []
          },
          "execution_count": 3
        }
      ]
    },
    {
      "cell_type": "code",
      "metadata": {
        "id": "kF1cEBcmFT75",
        "colab": {
          "base_uri": "https://localhost:8080/"
        },
        "outputId": "728b9e11-1a94-478c-89d0-849b28c8286b"
      },
      "source": [
        "2**3"
      ],
      "execution_count": 4,
      "outputs": [
        {
          "output_type": "execute_result",
          "data": {
            "text/plain": [
              "8"
            ]
          },
          "metadata": {
            "tags": []
          },
          "execution_count": 4
        }
      ]
    },
    {
      "cell_type": "markdown",
      "metadata": {
        "id": "qqAIvhP5N4iu"
      },
      "source": [
        "## Write procedural code"
      ]
    },
    {
      "cell_type": "markdown",
      "metadata": {
        "id": "BwmnQEziVQ9k"
      },
      "source": [
        " ### Procedural Statements\n",
        " Procedural statements are literally statements that  can be issued one line at a time.  Below are types of procedural statements.  These statements can be run in:\n",
        " * Jupyter Notebook\n",
        " * IPython shell\n",
        " * Python interpreter\n",
        " * Python scripts"
      ]
    },
    {
      "cell_type": "code",
      "metadata": {
        "id": "_jaxjKtPTeBx"
      },
      "source": [
        "three_type_of_energy = [\"protein\", \"carbohydrates\", \"fat\"]"
      ],
      "execution_count": null,
      "outputs": []
    },
    {
      "cell_type": "code",
      "metadata": {
        "id": "zGLad2IGFjd_",
        "colab": {
          "base_uri": "https://localhost:8080/"
        },
        "outputId": "cedc5775-c0ce-4b55-e439-3dcacd678a1f"
      },
      "source": [
        "type(three_type_of_energy)"
      ],
      "execution_count": null,
      "outputs": [
        {
          "output_type": "execute_result",
          "data": {
            "text/plain": [
              "list"
            ]
          },
          "metadata": {
            "tags": []
          },
          "execution_count": 8
        }
      ]
    },
    {
      "cell_type": "code",
      "metadata": {
        "id": "zA1sKkb5Foed",
        "colab": {
          "base_uri": "https://localhost:8080/"
        },
        "outputId": "7713f898-f47b-47d7-8027-cb4a8c02132c"
      },
      "source": [
        "type(1.0)"
      ],
      "execution_count": null,
      "outputs": [
        {
          "output_type": "execute_result",
          "data": {
            "text/plain": [
              "float"
            ]
          },
          "metadata": {
            "tags": []
          },
          "execution_count": 11
        }
      ]
    },
    {
      "cell_type": "markdown",
      "metadata": {
        "id": "H004n8R-WDGF"
      },
      "source": [
        "### **Multiple procedural statements**"
      ]
    },
    {
      "cell_type": "code",
      "metadata": {
        "id": "xrZWZEFmV_bN",
        "colab": {
          "base_uri": "https://localhost:8080/"
        },
        "outputId": "5bb756b8-0e14-488c-fe82-fc96f71d5b6f"
      },
      "source": [
        "protein, carbohydrate, fat = three_type_of_energy\n",
        "print(f\"{carbohydrate} sure taste good\")\n",
        "print(f\"{fat} isn't bad for you anymore?\")\n"
      ],
      "execution_count": null,
      "outputs": [
        {
          "output_type": "stream",
          "text": [
            "carbohydrates sure taste good\n",
            "fat isn't bad for you anymore?\n"
          ],
          "name": "stdout"
        }
      ]
    },
    {
      "cell_type": "code",
      "metadata": {
        "id": "YMDeJpSmGB5L",
        "colab": {
          "base_uri": "https://localhost:8080/"
        },
        "outputId": "295dc504-7162-43b9-9942-c89816a26c8f"
      },
      "source": [
        "print(f\"I like high {fat} vegetarian food?\")"
      ],
      "execution_count": null,
      "outputs": [
        {
          "output_type": "stream",
          "text": [
            "I like high fat vegetarian food?\n"
          ],
          "name": "stdout"
        }
      ]
    },
    {
      "cell_type": "markdown",
      "metadata": {
        "id": "6IiZ6RnLWKsq"
      },
      "source": [
        "### Adding Numbers"
      ]
    },
    {
      "cell_type": "code",
      "metadata": {
        "id": "h049FhlhWPRm",
        "colab": {
          "base_uri": "https://localhost:8080/"
        },
        "outputId": "291fff21-c849-4496-e02e-ac5455b933f2"
      },
      "source": [
        "protein = 4\n",
        "fat = 9\n",
        "carbohydrate = 4\n",
        "carbohydrate + protein"
      ],
      "execution_count": null,
      "outputs": [
        {
          "output_type": "execute_result",
          "data": {
            "text/plain": [
              "8"
            ]
          },
          "metadata": {
            "tags": []
          },
          "execution_count": 18
        }
      ]
    },
    {
      "cell_type": "code",
      "metadata": {
        "id": "V8xQMVV3GeIk",
        "colab": {
          "base_uri": "https://localhost:8080/"
        },
        "outputId": "ffcf20a6-f473-42fe-bcd2-6f2cac680b37"
      },
      "source": [
        "10*protein"
      ],
      "execution_count": null,
      "outputs": [
        {
          "output_type": "execute_result",
          "data": {
            "text/plain": [
              "40"
            ]
          },
          "metadata": {
            "tags": []
          },
          "execution_count": 19
        }
      ]
    },
    {
      "cell_type": "markdown",
      "metadata": {
        "id": "mlszsN87WmcO"
      },
      "source": [
        "**Adding Phrases**"
      ]
    },
    {
      "cell_type": "code",
      "metadata": {
        "id": "FaE5GnCaWgbI",
        "colab": {
          "base_uri": "https://localhost:8080/",
          "height": 35
        },
        "outputId": "3a9378dd-e083-4671-92c7-b4395c87d9db"
      },
      "source": [
        "\"a carbohydrate \" + \"has \" + str(carbohydrate) + \" calories\" "
      ],
      "execution_count": null,
      "outputs": [
        {
          "output_type": "execute_result",
          "data": {
            "application/vnd.google.colaboratory.intrinsic+json": {
              "type": "string"
            },
            "text/plain": [
              "'a carbohydrate has 4 calories'"
            ]
          },
          "metadata": {
            "tags": []
          },
          "execution_count": 20
        }
      ]
    },
    {
      "cell_type": "code",
      "metadata": {
        "id": "nEKodU3JG4DE",
        "colab": {
          "base_uri": "https://localhost:8080/",
          "height": 35
        },
        "outputId": "187c695c-972b-4c49-a90a-fa33435ad347"
      },
      "source": [
        "\"a carbohydrate \" + \"has \" + str(carbohydrate) + \" calories \" + \", but I love carbs!!!\""
      ],
      "execution_count": null,
      "outputs": [
        {
          "output_type": "execute_result",
          "data": {
            "application/vnd.google.colaboratory.intrinsic+json": {
              "type": "string"
            },
            "text/plain": [
              "'a carbohydrate has 4 calories , but I love carbs!!!'"
            ]
          },
          "metadata": {
            "tags": []
          },
          "execution_count": 24
        }
      ]
    },
    {
      "cell_type": "markdown",
      "metadata": {
        "id": "WSrfrIO1XYts"
      },
      "source": [
        "**Complex statements**\n",
        "\n",
        "More complex statements can be created that use data structures like the belts variable, which is a list."
      ]
    },
    {
      "cell_type": "code",
      "metadata": {
        "id": "0nf0W0e3XSQS",
        "colab": {
          "base_uri": "https://localhost:8080/"
        },
        "outputId": "16c49897-6228-4896-aef0-6b7a8f494a31"
      },
      "source": [
        "for energy_type in three_type_of_energy:\n",
        "  print(energy_type)"
      ],
      "execution_count": null,
      "outputs": [
        {
          "output_type": "stream",
          "text": [
            "protein\n",
            "carbohydrates\n",
            "fat\n"
          ],
          "name": "stdout"
        }
      ]
    },
    {
      "cell_type": "markdown",
      "metadata": {
        "id": "yHdWIarsN850"
      },
      "source": [
        "## Use simple expressions and variables"
      ]
    },
    {
      "cell_type": "markdown",
      "metadata": {
        "id": "jYjzO6a4N88q"
      },
      "source": [
        "### assert"
      ]
    },
    {
      "cell_type": "code",
      "metadata": {
        "id": "xXnbhsNjWTiu",
        "colab": {
          "base_uri": "https://localhost:8080/",
          "height": 186
        },
        "outputId": "5823786e-5fab-4e73-fd53-e6e695517c35"
      },
      "source": [
        "assert carbohydrate == 9\n",
        "  "
      ],
      "execution_count": null,
      "outputs": [
        {
          "output_type": "error",
          "ename": "AssertionError",
          "evalue": "ignored",
          "traceback": [
            "\u001b[0;31m---------------------------------------------------------------------------\u001b[0m",
            "\u001b[0;31mAssertionError\u001b[0m                            Traceback (most recent call last)",
            "\u001b[0;32m<ipython-input-26-448b002ebeaf>\u001b[0m in \u001b[0;36m<module>\u001b[0;34m()\u001b[0m\n\u001b[0;32m----> 1\u001b[0;31m \u001b[0;32massert\u001b[0m \u001b[0mcarbohydrate\u001b[0m \u001b[0;34m==\u001b[0m \u001b[0;36m9\u001b[0m\u001b[0;34m\u001b[0m\u001b[0;34m\u001b[0m\u001b[0m\n\u001b[0m\u001b[1;32m      2\u001b[0m \u001b[0;34m\u001b[0m\u001b[0m\n",
            "\u001b[0;31mAssertionError\u001b[0m: "
          ]
        }
      ]
    },
    {
      "cell_type": "code",
      "metadata": {
        "id": "N0jWM3RIWdEC"
      },
      "source": [
        "assert carbohydrate == 4"
      ],
      "execution_count": null,
      "outputs": []
    },
    {
      "cell_type": "markdown",
      "metadata": {
        "id": "dJhCYS9gWhE7"
      },
      "source": [
        "### pass"
      ]
    },
    {
      "cell_type": "code",
      "metadata": {
        "id": "5JTGSrVLXC56"
      },
      "source": [
        "class Calorie: pass\n",
        "kcal = Calorie()\n"
      ],
      "execution_count": null,
      "outputs": []
    },
    {
      "cell_type": "code",
      "metadata": {
        "id": "IQ6SXQ1hJo31"
      },
      "source": [
        "kcal.value = \"9\""
      ],
      "execution_count": null,
      "outputs": []
    },
    {
      "cell_type": "code",
      "metadata": {
        "id": "ekV-4F89H_lJ"
      },
      "source": [
        "# DO NOT DO THIS\n",
        "try:\n",
        "    2+2 == 5\n",
        "except:\n",
        "    pass"
      ],
      "execution_count": null,
      "outputs": []
    },
    {
      "cell_type": "markdown",
      "metadata": {
        "id": "-ZupZ1esXMXN"
      },
      "source": [
        "### del\n"
      ]
    },
    {
      "cell_type": "code",
      "metadata": {
        "id": "YSl9e1O6XQVo",
        "colab": {
          "base_uri": "https://localhost:8080/"
        },
        "outputId": "97192cad-6e8e-4d80-e4d4-c353ada71e94"
      },
      "source": [
        "class Calorie: pass\n",
        "kcal = Calorie()\n",
        "%who_ls"
      ],
      "execution_count": null,
      "outputs": [
        {
          "output_type": "execute_result",
          "data": {
            "text/plain": [
              "['Calorie',\n",
              " 'carbohydrate',\n",
              " 'energy_type',\n",
              " 'fat',\n",
              " 'kcal',\n",
              " 'protein',\n",
              " 'three_type_of_energy']"
            ]
          },
          "metadata": {
            "tags": []
          },
          "execution_count": 32
        }
      ]
    },
    {
      "cell_type": "code",
      "metadata": {
        "id": "sa1YcirqJ0J7"
      },
      "source": [
        "kcal.value = 9"
      ],
      "execution_count": null,
      "outputs": []
    },
    {
      "cell_type": "code",
      "metadata": {
        "id": "q1Kfx2kQXbES",
        "colab": {
          "base_uri": "https://localhost:8080/"
        },
        "outputId": "155598ad-d448-4ab4-dca3-6cc4c7d5b028"
      },
      "source": [
        "del kcal\n",
        "%who_ls"
      ],
      "execution_count": null,
      "outputs": [
        {
          "output_type": "execute_result",
          "data": {
            "text/plain": [
              "['Calorie',\n",
              " 'carbohydrate',\n",
              " 'energy_type',\n",
              " 'fat',\n",
              " 'protein',\n",
              " 'three_type_of_energy']"
            ]
          },
          "metadata": {
            "tags": []
          },
          "execution_count": 34
        }
      ]
    },
    {
      "cell_type": "markdown",
      "metadata": {
        "id": "7sHqDgRiXlYS"
      },
      "source": [
        "### return"
      ]
    },
    {
      "cell_type": "code",
      "metadata": {
        "id": "cS3zelFyXoXX",
        "colab": {
          "base_uri": "https://localhost:8080/"
        },
        "outputId": "d12cedbf-e068-4fc3-e04a-8c802c544ba2"
      },
      "source": [
        "def food():\n",
        "  return \"whey\"\n",
        "\n",
        "print(f\"Make {food()} while the sun shines\")"
      ],
      "execution_count": null,
      "outputs": [
        {
          "output_type": "stream",
          "text": [
            "Make whey while the sun shines\n"
          ],
          "name": "stdout"
        }
      ]
    },
    {
      "cell_type": "code",
      "metadata": {
        "id": "L4p5GHdpIxBT"
      },
      "source": [
        "def add(x,y):\n",
        "    return x+y"
      ],
      "execution_count": null,
      "outputs": []
    },
    {
      "cell_type": "code",
      "metadata": {
        "id": "HIPXTp7GI1rp",
        "colab": {
          "base_uri": "https://localhost:8080/"
        },
        "outputId": "ef85dc4b-699b-4d67-89c6-63f5ba9765ea"
      },
      "source": [
        "add(1,1)"
      ],
      "execution_count": null,
      "outputs": [
        {
          "output_type": "execute_result",
          "data": {
            "text/plain": [
              "2"
            ]
          },
          "metadata": {
            "tags": []
          },
          "execution_count": 38
        }
      ]
    },
    {
      "cell_type": "markdown",
      "metadata": {
        "id": "qFVa9v6FYOi0"
      },
      "source": [
        "### yield"
      ]
    },
    {
      "cell_type": "code",
      "metadata": {
        "id": "AHJMMYqfYR47"
      },
      "source": [
        "def too_much_food():\n",
        "  meal = [\"orange\", \"apple\", \"turkey\", \"ham\"]\n",
        "  for snack in meal:\n",
        "    yield snack\n",
        "    "
      ],
      "execution_count": null,
      "outputs": []
    },
    {
      "cell_type": "code",
      "metadata": {
        "id": "Uiu8dH3IYoaX",
        "colab": {
          "base_uri": "https://localhost:8080/"
        },
        "outputId": "9fb3c819-1986-4dbe-969b-2aa489b05d51"
      },
      "source": [
        "snacks = too_much_food()\n",
        "print(next(snacks))\n",
        "print(next(snacks))"
      ],
      "execution_count": null,
      "outputs": [
        {
          "output_type": "stream",
          "text": [
            "orange\n",
            "apple\n"
          ],
          "name": "stdout"
        }
      ]
    },
    {
      "cell_type": "code",
      "metadata": {
        "id": "6xXJnKUnKNqp",
        "colab": {
          "base_uri": "https://localhost:8080/",
          "height": 35
        },
        "outputId": "a055aa82-e848-4753-dacf-08c4c3a47313"
      },
      "source": [
        "next(snacks)"
      ],
      "execution_count": null,
      "outputs": [
        {
          "output_type": "execute_result",
          "data": {
            "application/vnd.google.colaboratory.intrinsic+json": {
              "type": "string"
            },
            "text/plain": [
              "'turkey'"
            ]
          },
          "metadata": {
            "tags": []
          },
          "execution_count": 42
        }
      ]
    },
    {
      "cell_type": "code",
      "metadata": {
        "id": "3vvXvpmwKQ08",
        "colab": {
          "base_uri": "https://localhost:8080/",
          "height": 35
        },
        "outputId": "912236e3-3123-4615-f2af-8f4d0dbb28d6"
      },
      "source": [
        "next(snacks)"
      ],
      "execution_count": null,
      "outputs": [
        {
          "output_type": "execute_result",
          "data": {
            "application/vnd.google.colaboratory.intrinsic+json": {
              "type": "string"
            },
            "text/plain": [
              "'ham'"
            ]
          },
          "metadata": {
            "tags": []
          },
          "execution_count": 43
        }
      ]
    },
    {
      "cell_type": "code",
      "metadata": {
        "id": "PTL1xoBdKT45",
        "colab": {
          "base_uri": "https://localhost:8080/",
          "height": 169
        },
        "outputId": "14c7904f-c326-4390-c54d-2185aa1bb7dd"
      },
      "source": [
        "next(snacks)"
      ],
      "execution_count": null,
      "outputs": [
        {
          "output_type": "error",
          "ename": "StopIteration",
          "evalue": "ignored",
          "traceback": [
            "\u001b[0;31m---------------------------------------------------------------------------\u001b[0m",
            "\u001b[0;31mStopIteration\u001b[0m                             Traceback (most recent call last)",
            "\u001b[0;32m<ipython-input-44-4cb0aa5aecce>\u001b[0m in \u001b[0;36m<module>\u001b[0;34m()\u001b[0m\n\u001b[0;32m----> 1\u001b[0;31m \u001b[0mnext\u001b[0m\u001b[0;34m(\u001b[0m\u001b[0msnacks\u001b[0m\u001b[0;34m)\u001b[0m\u001b[0;34m\u001b[0m\u001b[0;34m\u001b[0m\u001b[0m\n\u001b[0m",
            "\u001b[0;31mStopIteration\u001b[0m: "
          ]
        }
      ]
    },
    {
      "cell_type": "markdown",
      "metadata": {
        "id": "4ZDzW5MqZ1RU"
      },
      "source": [
        "### break\n"
      ]
    },
    {
      "cell_type": "code",
      "metadata": {
        "id": "0kjVX0pnZ3D6",
        "colab": {
          "base_uri": "https://localhost:8080/"
        },
        "outputId": "0b5126a6-bd11-4729-c0c8-fd510a09f8ce"
      },
      "source": [
        "carbohydrate = 4\n",
        "calories = 0\n",
        "while True:\n",
        "  calories += carbohydrate\n",
        "  print(f\"Eating more carbohydrates {calories}\")\n",
        "  if calories > 8:\n",
        "    print(\"This is all I can eat\")\n",
        "    break"
      ],
      "execution_count": null,
      "outputs": [
        {
          "output_type": "stream",
          "text": [
            "Eating more carbohydrates 4\n",
            "Eating more carbohydrates 8\n",
            "Eating more carbohydrates 12\n",
            "This is all I can eat\n"
          ],
          "name": "stdout"
        }
      ]
    },
    {
      "cell_type": "code",
      "metadata": {
        "id": "tfcD9G_TKTDp"
      },
      "source": [
        ""
      ],
      "execution_count": null,
      "outputs": []
    },
    {
      "cell_type": "markdown",
      "metadata": {
        "id": "6VpcRvywahUF"
      },
      "source": [
        "### continue"
      ]
    },
    {
      "cell_type": "code",
      "metadata": {
        "id": "quS_WfM8alY-",
        "colab": {
          "base_uri": "https://localhost:8080/"
        },
        "outputId": "8fe7ebef-2780-4801-9b09-da7e87fc252f"
      },
      "source": [
        "three_type_of_energy = [\"protein\", \"sugar\", \"fat\"]\n",
        "for energy in three_type_of_energy:\n",
        "  if energy == \"sugar\":\n",
        "    print(f\"skipping {energy} for my health\")\n",
        "    continue\n",
        "  print(f\"eating {energy}\")"
      ],
      "execution_count": null,
      "outputs": [
        {
          "output_type": "stream",
          "text": [
            "eating protein\n",
            "skipping sugar for my health\n",
            "eating fat\n"
          ],
          "name": "stdout"
        }
      ]
    },
    {
      "cell_type": "markdown",
      "metadata": {
        "id": "I2e-GRTObNek"
      },
      "source": [
        "### import\n"
      ]
    },
    {
      "cell_type": "code",
      "metadata": {
        "id": "D1XcQeQ8bQCJ"
      },
      "source": [
        "import os"
      ],
      "execution_count": null,
      "outputs": []
    },
    {
      "cell_type": "code",
      "metadata": {
        "id": "0bKyVQLnKkJ0",
        "colab": {
          "base_uri": "https://localhost:8080/"
        },
        "outputId": "ea59af03-aff9-4a40-861f-97d0fc1d6dd3"
      },
      "source": [
        "os.listdir(\".\")"
      ],
      "execution_count": null,
      "outputs": [
        {
          "output_type": "execute_result",
          "data": {
            "text/plain": [
              "['.config', 'sample_data']"
            ]
          },
          "metadata": {
            "tags": []
          },
          "execution_count": 49
        }
      ]
    },
    {
      "cell_type": "markdown",
      "metadata": {
        "id": "p8t4I8eiM9kO"
      },
      "source": [
        "## Work with the built-in types"
      ]
    },
    {
      "cell_type": "markdown",
      "metadata": {
        "id": "jDqDV20zM9kP"
      },
      "source": [
        "### dict"
      ]
    },
    {
      "cell_type": "code",
      "metadata": {
        "id": "4XJ5TAyycHbH",
        "colab": {
          "base_uri": "https://localhost:8080/"
        },
        "outputId": "5935726f-9ee0-4600-f328-ea69d6835759"
      },
      "source": [
        "omelette = {\"egg\": 3, \"ham\": \"yes\"}\n",
        "type(omelette)"
      ],
      "execution_count": null,
      "outputs": [
        {
          "output_type": "execute_result",
          "data": {
            "text/plain": [
              "dict"
            ]
          },
          "metadata": {
            "tags": []
          },
          "execution_count": 50
        }
      ]
    },
    {
      "cell_type": "code",
      "metadata": {
        "id": "AXkJqXiHLJkF",
        "colab": {
          "base_uri": "https://localhost:8080/"
        },
        "outputId": "e16092f6-006c-4ab2-f0dd-e7fcf40e1859"
      },
      "source": [
        "omelette.keys()"
      ],
      "execution_count": null,
      "outputs": [
        {
          "output_type": "execute_result",
          "data": {
            "text/plain": [
              "dict_keys(['egg', 'ham'])"
            ]
          },
          "metadata": {
            "tags": []
          },
          "execution_count": 52
        }
      ]
    },
    {
      "cell_type": "code",
      "metadata": {
        "id": "xckP4snJLMRS",
        "colab": {
          "base_uri": "https://localhost:8080/"
        },
        "outputId": "148bb132-ca44-49e0-81aa-c4a095b9fa2c"
      },
      "source": [
        "omelette.values()"
      ],
      "execution_count": null,
      "outputs": [
        {
          "output_type": "execute_result",
          "data": {
            "text/plain": [
              "dict_values([3, 'yes'])"
            ]
          },
          "metadata": {
            "tags": []
          },
          "execution_count": 53
        }
      ]
    },
    {
      "cell_type": "code",
      "metadata": {
        "id": "OJn9xLBmLPX-",
        "colab": {
          "base_uri": "https://localhost:8080/"
        },
        "outputId": "07afa4f7-c4d4-4a6c-8595-dcbc50370e72"
      },
      "source": [
        "\"egg\" in omelette"
      ],
      "execution_count": null,
      "outputs": [
        {
          "output_type": "execute_result",
          "data": {
            "text/plain": [
              "True"
            ]
          },
          "metadata": {
            "tags": []
          },
          "execution_count": 54
        }
      ]
    },
    {
      "cell_type": "markdown",
      "metadata": {
        "id": "dVGDHgzScHyB"
      },
      "source": [
        "### list"
      ]
    },
    {
      "cell_type": "code",
      "metadata": {
        "id": "v2kHfbALcJGK",
        "colab": {
          "base_uri": "https://localhost:8080/"
        },
        "outputId": "8b6eb1b4-32f8-4a88-bb4d-00e077d0202d"
      },
      "source": [
        "ingredients = [\"egg\", \"ham\", \"bacon\"]\n",
        "type(ingredients)"
      ],
      "execution_count": null,
      "outputs": [
        {
          "output_type": "execute_result",
          "data": {
            "text/plain": [
              "list"
            ]
          },
          "metadata": {
            "tags": []
          },
          "execution_count": 55
        }
      ]
    },
    {
      "cell_type": "code",
      "metadata": {
        "id": "7GYwE66CLWB0",
        "colab": {
          "base_uri": "https://localhost:8080/",
          "height": 35
        },
        "outputId": "1beb5bf0-e7e7-4527-a3bd-5414093a916d"
      },
      "source": [
        "ingredients[0]"
      ],
      "execution_count": null,
      "outputs": [
        {
          "output_type": "execute_result",
          "data": {
            "application/vnd.google.colaboratory.intrinsic+json": {
              "type": "string"
            },
            "text/plain": [
              "'egg'"
            ]
          },
          "metadata": {
            "tags": []
          },
          "execution_count": 56
        }
      ]
    },
    {
      "cell_type": "code",
      "metadata": {
        "id": "7sqQXMsULYgB",
        "colab": {
          "base_uri": "https://localhost:8080/",
          "height": 35
        },
        "outputId": "55c43780-ed32-4cbe-a7b7-35e044dc3aba"
      },
      "source": [
        "ingredients[-1]"
      ],
      "execution_count": null,
      "outputs": [
        {
          "output_type": "execute_result",
          "data": {
            "application/vnd.google.colaboratory.intrinsic+json": {
              "type": "string"
            },
            "text/plain": [
              "'bacon'"
            ]
          },
          "metadata": {
            "tags": []
          },
          "execution_count": 57
        }
      ]
    },
    {
      "cell_type": "code",
      "metadata": {
        "id": "T_P6-8t6Ld5W",
        "colab": {
          "base_uri": "https://localhost:8080/"
        },
        "outputId": "a0305fdd-a927-4ab9-bd7f-61738cf927af"
      },
      "source": [
        "ingredients[0:2]"
      ],
      "execution_count": null,
      "outputs": [
        {
          "output_type": "execute_result",
          "data": {
            "text/plain": [
              "['egg', 'ham']"
            ]
          },
          "metadata": {
            "tags": []
          },
          "execution_count": 59
        }
      ]
    },
    {
      "cell_type": "code",
      "metadata": {
        "id": "Hi0eVW7gLmfk",
        "colab": {
          "base_uri": "https://localhost:8080/",
          "height": 35
        },
        "outputId": "65b560dd-3dce-4d23-993a-0e15d6eeacad"
      },
      "source": [
        "ingredients.pop()"
      ],
      "execution_count": null,
      "outputs": [
        {
          "output_type": "execute_result",
          "data": {
            "application/vnd.google.colaboratory.intrinsic+json": {
              "type": "string"
            },
            "text/plain": [
              "'bacon'"
            ]
          },
          "metadata": {
            "tags": []
          },
          "execution_count": 60
        }
      ]
    },
    {
      "cell_type": "code",
      "metadata": {
        "id": "1SIciE25LpAi",
        "colab": {
          "base_uri": "https://localhost:8080/"
        },
        "outputId": "4a4d30b6-cf2a-4677-8603-03e7bb2151b3"
      },
      "source": [
        "ingredients"
      ],
      "execution_count": null,
      "outputs": [
        {
          "output_type": "execute_result",
          "data": {
            "text/plain": [
              "['egg', 'ham']"
            ]
          },
          "metadata": {
            "tags": []
          },
          "execution_count": 61
        }
      ]
    },
    {
      "cell_type": "code",
      "metadata": {
        "id": "gm3QmxnqLqpw",
        "colab": {
          "base_uri": "https://localhost:8080/",
          "height": 35
        },
        "outputId": "906f4568-5ae3-4560-ec96-47e0ff41d6e5"
      },
      "source": [
        "ingredients.pop()"
      ],
      "execution_count": null,
      "outputs": [
        {
          "output_type": "execute_result",
          "data": {
            "application/vnd.google.colaboratory.intrinsic+json": {
              "type": "string"
            },
            "text/plain": [
              "'ham'"
            ]
          },
          "metadata": {
            "tags": []
          },
          "execution_count": 62
        }
      ]
    },
    {
      "cell_type": "code",
      "metadata": {
        "id": "vCeayi-pLs9n",
        "colab": {
          "base_uri": "https://localhost:8080/"
        },
        "outputId": "e3e363d9-4e9c-4c51-8343-2cb99a616a0d"
      },
      "source": [
        "ingredients"
      ],
      "execution_count": null,
      "outputs": [
        {
          "output_type": "execute_result",
          "data": {
            "text/plain": [
              "['egg']"
            ]
          },
          "metadata": {
            "tags": []
          },
          "execution_count": 63
        }
      ]
    },
    {
      "cell_type": "code",
      "metadata": {
        "id": "mikSFkKcLus3",
        "colab": {
          "base_uri": "https://localhost:8080/",
          "height": 35
        },
        "outputId": "e604c525-ba88-47b6-a942-bb1bb61c7651"
      },
      "source": [
        "ingredients.pop()"
      ],
      "execution_count": null,
      "outputs": [
        {
          "output_type": "execute_result",
          "data": {
            "application/vnd.google.colaboratory.intrinsic+json": {
              "type": "string"
            },
            "text/plain": [
              "'egg'"
            ]
          },
          "metadata": {
            "tags": []
          },
          "execution_count": 64
        }
      ]
    },
    {
      "cell_type": "code",
      "metadata": {
        "id": "KKVBWwtHLwbN",
        "colab": {
          "base_uri": "https://localhost:8080/"
        },
        "outputId": "c6910238-552b-4918-8ebf-4f9ff55ec4e4"
      },
      "source": [
        "len(ingredients)"
      ],
      "execution_count": null,
      "outputs": [
        {
          "output_type": "execute_result",
          "data": {
            "text/plain": [
              "0"
            ]
          },
          "metadata": {
            "tags": []
          },
          "execution_count": 66
        }
      ]
    },
    {
      "cell_type": "code",
      "metadata": {
        "id": "Wa16GHVmL2T7",
        "colab": {
          "base_uri": "https://localhost:8080/",
          "height": 169
        },
        "outputId": "1880cf6f-90a6-4e16-e207-0b254cf06723"
      },
      "source": [
        "ingredients.pop()"
      ],
      "execution_count": null,
      "outputs": [
        {
          "output_type": "error",
          "ename": "IndexError",
          "evalue": "ignored",
          "traceback": [
            "\u001b[0;31m---------------------------------------------------------------------------\u001b[0m",
            "\u001b[0;31mIndexError\u001b[0m                                Traceback (most recent call last)",
            "\u001b[0;32m<ipython-input-67-38e307436955>\u001b[0m in \u001b[0;36m<module>\u001b[0;34m()\u001b[0m\n\u001b[0;32m----> 1\u001b[0;31m \u001b[0mingredients\u001b[0m\u001b[0;34m.\u001b[0m\u001b[0mpop\u001b[0m\u001b[0;34m(\u001b[0m\u001b[0;34m)\u001b[0m\u001b[0;34m\u001b[0m\u001b[0;34m\u001b[0m\u001b[0m\n\u001b[0m",
            "\u001b[0;31mIndexError\u001b[0m: pop from empty list"
          ]
        }
      ]
    },
    {
      "cell_type": "markdown",
      "metadata": {
        "id": "tBSUPJEmcJhf"
      },
      "source": [
        "### set\n"
      ]
    },
    {
      "cell_type": "code",
      "metadata": {
        "id": "eOdfWOr8cNHH",
        "colab": {
          "base_uri": "https://localhost:8080/"
        },
        "outputId": "c4305800-ede7-43db-ebf9-9eee3797c9dc"
      },
      "source": [
        "egg_set = set([\"egg\", \"egg\", \"egg\"])\n",
        "type(egg_set)"
      ],
      "execution_count": null,
      "outputs": [
        {
          "output_type": "execute_result",
          "data": {
            "text/plain": [
              "set"
            ]
          },
          "metadata": {
            "tags": []
          },
          "execution_count": 70
        }
      ]
    },
    {
      "cell_type": "code",
      "metadata": {
        "id": "LzKIr5mZLn9S",
        "colab": {
          "base_uri": "https://localhost:8080/",
          "height": 34
        },
        "outputId": "b7abb843-470c-4ebe-b62f-e10a88265bd7"
      },
      "source": [
        "egg_set"
      ],
      "execution_count": null,
      "outputs": [
        {
          "output_type": "execute_result",
          "data": {
            "text/plain": [
              "{'egg'}"
            ]
          },
          "metadata": {
            "tags": []
          },
          "execution_count": 91
        }
      ]
    },
    {
      "cell_type": "markdown",
      "metadata": {
        "id": "z2eOUv5AHSZL"
      },
      "source": [
        "### tuple"
      ]
    },
    {
      "cell_type": "code",
      "metadata": {
        "id": "xEyAvrjdHUE1",
        "colab": {
          "base_uri": "https://localhost:8080/",
          "height": 186
        },
        "outputId": "a387e673-299d-4a5b-c66e-9f7072479e1d"
      },
      "source": [
        "breakfast = (\"egg\",\"soup\")\n",
        "breakfast[0] = \"turkey\""
      ],
      "execution_count": null,
      "outputs": [
        {
          "output_type": "error",
          "ename": "TypeError",
          "evalue": "ignored",
          "traceback": [
            "\u001b[0;31m---------------------------------------------------------------------------\u001b[0m",
            "\u001b[0;31mTypeError\u001b[0m                                 Traceback (most recent call last)",
            "\u001b[0;32m<ipython-input-71-5737173ae030>\u001b[0m in \u001b[0;36m<module>\u001b[0;34m()\u001b[0m\n\u001b[1;32m      1\u001b[0m \u001b[0mbreakfast\u001b[0m \u001b[0;34m=\u001b[0m \u001b[0;34m(\u001b[0m\u001b[0;34m\"egg\"\u001b[0m\u001b[0;34m,\u001b[0m\u001b[0;34m\"soup\"\u001b[0m\u001b[0;34m)\u001b[0m\u001b[0;34m\u001b[0m\u001b[0;34m\u001b[0m\u001b[0m\n\u001b[0;32m----> 2\u001b[0;31m \u001b[0mbreakfast\u001b[0m\u001b[0;34m[\u001b[0m\u001b[0;36m0\u001b[0m\u001b[0;34m]\u001b[0m \u001b[0;34m=\u001b[0m \u001b[0;34m\"turkey\"\u001b[0m\u001b[0;34m\u001b[0m\u001b[0;34m\u001b[0m\u001b[0m\n\u001b[0m",
            "\u001b[0;31mTypeError\u001b[0m: 'tuple' object does not support item assignment"
          ]
        }
      ]
    },
    {
      "cell_type": "code",
      "metadata": {
        "id": "mB5Mcx3GLy0b",
        "colab": {
          "base_uri": "https://localhost:8080/",
          "height": 35
        },
        "outputId": "72bfbd85-e076-415d-bac7-0e5818f49e99"
      },
      "source": [
        "breakfast[1]"
      ],
      "execution_count": null,
      "outputs": [
        {
          "output_type": "execute_result",
          "data": {
            "application/vnd.google.colaboratory.intrinsic+json": {
              "type": "string"
            },
            "text/plain": [
              "'soup'"
            ]
          },
          "metadata": {
            "tags": []
          },
          "execution_count": 72
        }
      ]
    },
    {
      "cell_type": "markdown",
      "metadata": {
        "id": "5E7X1a9QLK0H"
      },
      "source": [
        "## Printing"
      ]
    },
    {
      "cell_type": "markdown",
      "metadata": {
        "id": "G7VMVJY9HNjQ"
      },
      "source": [
        "### Printing"
      ]
    },
    {
      "cell_type": "code",
      "metadata": {
        "id": "n1r0n2V3Vs70",
        "colab": {
          "base_uri": "https://localhost:8080/"
        },
        "outputId": "a2d56b59-6b0e-4356-cee1-fae290137603"
      },
      "source": [
        "print(\"omelets are tasty\")\n"
      ],
      "execution_count": null,
      "outputs": [
        {
          "output_type": "stream",
          "text": [
            "omelets are tasty\n"
          ],
          "name": "stdout"
        }
      ]
    },
    {
      "cell_type": "code",
      "metadata": {
        "id": "oWl-6bpTMJnr",
        "colab": {
          "base_uri": "https://localhost:8080/"
        },
        "outputId": "1ec68128-890c-468f-e7e4-7e7f32373031"
      },
      "source": [
        "variable = \"ham\"\n",
        "print(f\"I like {variable}\")"
      ],
      "execution_count": null,
      "outputs": [
        {
          "output_type": "stream",
          "text": [
            "I like ham\n"
          ],
          "name": "stdout"
        }
      ]
    },
    {
      "cell_type": "markdown",
      "metadata": {
        "id": "8nUjNnApV6cC"
      },
      "source": [
        "### Create Variable and Use Variable"
      ]
    },
    {
      "cell_type": "code",
      "metadata": {
        "id": "mhjO2LpSVx9V",
        "colab": {
          "base_uri": "https://localhost:8080/"
        },
        "outputId": "30bcb8ca-4ff8-4873-f741-691156a9285e"
      },
      "source": [
        "variable = \"omelets\";print(variable)"
      ],
      "execution_count": null,
      "outputs": [
        {
          "output_type": "stream",
          "text": [
            "omelets\n"
          ],
          "name": "stdout"
        }
      ]
    },
    {
      "cell_type": "markdown",
      "metadata": {
        "id": "YtGLHh1mdTGA"
      },
      "source": [
        "### Use print as a function"
      ]
    },
    {
      "cell_type": "code",
      "metadata": {
        "id": "id03bYS2dX2u",
        "colab": {
          "base_uri": "https://localhost:8080/"
        },
        "outputId": "2779069d-bc53-4ba4-a064-60f8fec9aa92"
      },
      "source": [
        "print(\"kombucha\", \"manuka honey\", sep=\"+\")"
      ],
      "execution_count": null,
      "outputs": [
        {
          "output_type": "stream",
          "text": [
            "kombucha+manuka honey\n"
          ],
          "name": "stdout"
        }
      ]
    },
    {
      "cell_type": "markdown",
      "metadata": {
        "id": "O_mIki5Virkk"
      },
      "source": [
        "## Perform basic math operations\n",
        "\n"
      ]
    },
    {
      "cell_type": "markdown",
      "metadata": {
        "id": "eRmipgSocZ9i"
      },
      "source": [
        "#### Numbers and Arithmetic Operations\n",
        "\n",
        "Python is also a built-in calculator. Without installing any additional libraries it can do many simple and complex arithmetic operations."
      ]
    },
    {
      "cell_type": "markdown",
      "metadata": {
        "id": "xd6LxgEXcgP8"
      },
      "source": [
        "**Adding and Subtracting Numbers**"
      ]
    },
    {
      "cell_type": "code",
      "metadata": {
        "id": "mKwZGBoMb6_A",
        "colab": {
          "base_uri": "https://localhost:8080/"
        },
        "outputId": "57bdc4c7-fdf4-4347-e780-89994429c25b"
      },
      "source": [
        "steps = (1+1)-1\n",
        "print(f\"Two Steps Forward:  One Step Back = {steps}\")"
      ],
      "execution_count": null,
      "outputs": [
        {
          "output_type": "stream",
          "text": [
            "Two Steps Forward:  One Step Back = 1\n"
          ],
          "name": "stdout"
        }
      ]
    },
    {
      "cell_type": "markdown",
      "metadata": {
        "id": "nMKS0ZYkdjvp"
      },
      "source": [
        "**Multiplication with Decimals**\n",
        "\n",
        "Can use float type to solve decimal problems"
      ]
    },
    {
      "cell_type": "code",
      "metadata": {
        "id": "Xgrw0LDucinh",
        "colab": {
          "base_uri": "https://localhost:8080/"
        },
        "outputId": "5c07f3e5-dded-49ac-ee32-1f2981bf7820"
      },
      "source": [
        "body_fat_percentage = 0.10\n",
        "weight = 200\n",
        "fat_total = body_fat_percentage * weight\n",
        "print(f\"I weight 200lbs, and {fat_total}lbs of that is fat\")"
      ],
      "execution_count": null,
      "outputs": [
        {
          "output_type": "stream",
          "text": [
            "I weight 200lbs, and 20.0lbs of that is fat\n"
          ],
          "name": "stdout"
        }
      ]
    },
    {
      "cell_type": "markdown",
      "metadata": {
        "id": "gjMkBnuxiCQW"
      },
      "source": [
        "Can also use Decimal Library to set precision and deal with repeating decimal\n"
      ]
    },
    {
      "cell_type": "code",
      "metadata": {
        "id": "GN_PYDuDiBHg",
        "colab": {
          "base_uri": "https://localhost:8080/"
        },
        "outputId": "1ac5b2ce-5a30-4369-bda2-168984a28f12"
      },
      "source": [
        "from decimal import (Decimal, getcontext)\n",
        "\n",
        "getcontext().prec = 2\n",
        "Decimal(1)/Decimal(3)\n",
        "\n"
      ],
      "execution_count": null,
      "outputs": [
        {
          "output_type": "execute_result",
          "data": {
            "text/plain": [
              "Decimal('0.33')"
            ]
          },
          "metadata": {
            "tags": []
          },
          "execution_count": 81
        }
      ]
    },
    {
      "cell_type": "markdown",
      "metadata": {
        "id": "f1_B6OUrdxlU"
      },
      "source": [
        "**Using Exponents**\n",
        "\n",
        "Using the Python math library it is straightforward to call 2 to the 3rd power"
      ]
    },
    {
      "cell_type": "code",
      "metadata": {
        "id": "Q2oC1HVhdmB9",
        "colab": {
          "base_uri": "https://localhost:8080/"
        },
        "outputId": "2cc056e4-5775-4939-b27a-67768f117169"
      },
      "source": [
        "import math\n",
        "math.pow(2,3)"
      ],
      "execution_count": null,
      "outputs": [
        {
          "output_type": "execute_result",
          "data": {
            "text/plain": [
              "8.0"
            ]
          },
          "metadata": {
            "tags": []
          },
          "execution_count": 83
        }
      ]
    },
    {
      "cell_type": "markdown",
      "metadata": {
        "id": "nkPcDry7jWt-"
      },
      "source": [
        "Can also use built in exponent operator to accomplish same thing"
      ]
    },
    {
      "cell_type": "code",
      "metadata": {
        "id": "9aV-R-DljXEj",
        "colab": {
          "base_uri": "https://localhost:8080/"
        },
        "outputId": "a31af6c4-b56c-4448-fa48-78e641d658c1"
      },
      "source": [
        "2**3"
      ],
      "execution_count": null,
      "outputs": [
        {
          "output_type": "execute_result",
          "data": {
            "text/plain": [
              "8"
            ]
          },
          "metadata": {
            "tags": []
          },
          "execution_count": 84
        }
      ]
    },
    {
      "cell_type": "markdown",
      "metadata": {
        "id": "9cejMs6nNhKQ"
      },
      "source": [
        "multiply"
      ]
    },
    {
      "cell_type": "code",
      "metadata": {
        "id": "2w0o6EAjNfNg",
        "colab": {
          "base_uri": "https://localhost:8080/"
        },
        "outputId": "d982b51a-44da-4763-c001-e466a38f15d2"
      },
      "source": [
        "2*3"
      ],
      "execution_count": null,
      "outputs": [
        {
          "output_type": "execute_result",
          "data": {
            "text/plain": [
              "6"
            ]
          },
          "metadata": {
            "tags": []
          },
          "execution_count": 85
        }
      ]
    },
    {
      "cell_type": "markdown",
      "metadata": {
        "id": "aYA_mApaI-Y7"
      },
      "source": [
        "this is regular multiplication"
      ]
    },
    {
      "cell_type": "code",
      "metadata": {
        "id": "6A_Vdvl_I8lg",
        "colab": {
          "base_uri": "https://localhost:8080/"
        },
        "outputId": "b5a83d60-f583-47c6-ee2c-0e3102d1c15b"
      },
      "source": [
        "2*3"
      ],
      "execution_count": null,
      "outputs": [
        {
          "output_type": "execute_result",
          "data": {
            "text/plain": [
              "6"
            ]
          },
          "metadata": {
            "tags": []
          },
          "execution_count": 86
        }
      ]
    },
    {
      "cell_type": "markdown",
      "metadata": {
        "id": "P6gOf9qtd6Nt"
      },
      "source": [
        "**Converting Between different numerical types**\n",
        "\n",
        "There are many numerical forms to be aware of in Python.\n",
        "A couple of the most common are:\n",
        "\n",
        "* Integers\n",
        "* Floats"
      ]
    },
    {
      "cell_type": "code",
      "metadata": {
        "id": "XCWg7yX-d210",
        "colab": {
          "base_uri": "https://localhost:8080/"
        },
        "outputId": "611c4044-bf75-4fab-fa1e-bbf7a7b1f9a6"
      },
      "source": [
        "number = 100\n",
        "num_type = type(number).__name__\n",
        "print(f\"{number} is type [{num_type}]\")"
      ],
      "execution_count": null,
      "outputs": [
        {
          "output_type": "stream",
          "text": [
            "100 is type [int]\n"
          ],
          "name": "stdout"
        }
      ]
    },
    {
      "cell_type": "code",
      "metadata": {
        "id": "iW2f1Ik7eAzd",
        "colab": {
          "base_uri": "https://localhost:8080/"
        },
        "outputId": "6a18ef2b-4257-4ffb-c2b5-a82cda6a24b9"
      },
      "source": [
        "number = float(100)\n",
        "num_type = type(number).__name__\n",
        "print(f\"{number} is type [{num_type}]\")"
      ],
      "execution_count": null,
      "outputs": [
        {
          "output_type": "stream",
          "text": [
            "100.0 is type [float]\n"
          ],
          "name": "stdout"
        }
      ]
    },
    {
      "cell_type": "code",
      "metadata": {
        "id": "5dnSfoXZFQuP"
      },
      "source": [
        "class Foo:pass\n",
        "f = Foo()"
      ],
      "execution_count": null,
      "outputs": []
    },
    {
      "cell_type": "code",
      "metadata": {
        "id": "44v5W-HdFU4J",
        "colab": {
          "base_uri": "https://localhost:8080/"
        },
        "outputId": "4a5b6da2-52f7-493f-f3a7-7fdde4c0abef"
      },
      "source": [
        "type(f)"
      ],
      "execution_count": null,
      "outputs": [
        {
          "output_type": "execute_result",
          "data": {
            "text/plain": [
              "__main__.Foo"
            ]
          },
          "metadata": {
            "tags": []
          },
          "execution_count": 91
        }
      ]
    },
    {
      "cell_type": "markdown",
      "metadata": {
        "id": "MrrFXb99gQ1Z"
      },
      "source": [
        "**Numbers can also be rounded**\n",
        "\n",
        "Python Built in round "
      ]
    },
    {
      "cell_type": "code",
      "metadata": {
        "id": "Wjtnfol2iZDL",
        "colab": {
          "base_uri": "https://localhost:8080/"
        },
        "outputId": "deaeeaff-4080-4803-a587-be3d182dd1ab"
      },
      "source": [
        "too_many_decimals = 1.912345897\n",
        "round(too_many_decimals, 3)\n",
        "#get more info\n",
        "#round?"
      ],
      "execution_count": null,
      "outputs": [
        {
          "output_type": "execute_result",
          "data": {
            "text/plain": [
              "1.912"
            ]
          },
          "metadata": {
            "tags": []
          },
          "execution_count": 92
        }
      ]
    },
    {
      "cell_type": "markdown",
      "metadata": {
        "id": "SuJDUTLFWUJz"
      },
      "source": [
        "Numpy round"
      ]
    },
    {
      "cell_type": "code",
      "metadata": {
        "id": "PEabuAGGWXIF",
        "colab": {
          "base_uri": "https://localhost:8080/"
        },
        "outputId": "60f3d658-765a-4e6d-ca82-e18e9b72a7ad"
      },
      "source": [
        "import numpy as np\n",
        "np.round(too_many_decimals, 3)"
      ],
      "execution_count": null,
      "outputs": [
        {
          "output_type": "execute_result",
          "data": {
            "text/plain": [
              "1.912"
            ]
          },
          "metadata": {
            "tags": []
          },
          "execution_count": 93
        }
      ]
    },
    {
      "cell_type": "markdown",
      "metadata": {
        "id": "X3aHIe6qW8ab"
      },
      "source": [
        "Pandas round"
      ]
    },
    {
      "cell_type": "code",
      "metadata": {
        "id": "J-x_sjiZW-gB",
        "colab": {
          "base_uri": "https://localhost:8080/",
          "height": 80
        },
        "outputId": "9f816ae2-113b-4b6d-9f32-b14d67675506"
      },
      "source": [
        "import pandas as pd\n",
        "df = pd.DataFrame([too_many_decimals], columns=[\"A\"], index=[\"first\"])\n",
        "df.round(2)\n"
      ],
      "execution_count": null,
      "outputs": [
        {
          "output_type": "execute_result",
          "data": {
            "text/html": [
              "<div>\n",
              "<style scoped>\n",
              "    .dataframe tbody tr th:only-of-type {\n",
              "        vertical-align: middle;\n",
              "    }\n",
              "\n",
              "    .dataframe tbody tr th {\n",
              "        vertical-align: top;\n",
              "    }\n",
              "\n",
              "    .dataframe thead th {\n",
              "        text-align: right;\n",
              "    }\n",
              "</style>\n",
              "<table border=\"1\" class=\"dataframe\">\n",
              "  <thead>\n",
              "    <tr style=\"text-align: right;\">\n",
              "      <th></th>\n",
              "      <th>A</th>\n",
              "    </tr>\n",
              "  </thead>\n",
              "  <tbody>\n",
              "    <tr>\n",
              "      <th>first</th>\n",
              "      <td>1.91</td>\n",
              "    </tr>\n",
              "  </tbody>\n",
              "</table>\n",
              "</div>"
            ],
            "text/plain": [
              "          A\n",
              "first  1.91"
            ]
          },
          "metadata": {
            "tags": []
          },
          "execution_count": 94
        }
      ]
    },
    {
      "cell_type": "markdown",
      "metadata": {
        "id": "elnncfa0XtOt"
      },
      "source": [
        "Simple benchmark of all three (**Python**, **numpy** and **Pandas** round):   using **%timeit**\n",
        "\n",
        "*Depending on what is getting rounded (i.e. a very large DataFrame, performance may very, so knowing how to benchmark performance is important with round) *\n"
      ]
    },
    {
      "cell_type": "code",
      "metadata": {
        "id": "Yr1SXcF5Xw-L",
        "colab": {
          "base_uri": "https://localhost:8080/"
        },
        "outputId": "8a725bc1-eba3-4009-bc3f-95a60a00a4d8"
      },
      "source": [
        "print(\"built in Python Round\")\n",
        "%timeit round(too_many_decimals, 2)\n",
        "\n",
        "print(\"numpy round\")\n",
        "%timeit np.round(too_many_decimals, 2)\n",
        "\n",
        "print(\"Pandas DataFrame round\")\n",
        "%timeit df.round(2)"
      ],
      "execution_count": null,
      "outputs": [
        {
          "output_type": "stream",
          "text": [
            "built in Python Round\n",
            "The slowest run took 19.18 times longer than the fastest. This could mean that an intermediate result is being cached.\n",
            "1000000 loops, best of 3: 616 ns per loop\n",
            "numpy round\n",
            "The slowest run took 6.49 times longer than the fastest. This could mean that an intermediate result is being cached.\n",
            "100000 loops, best of 3: 10.7 µs per loop\n",
            "Pandas DataFrame round\n",
            "1000 loops, best of 3: 825 µs per loop\n"
          ],
          "name": "stdout"
        }
      ]
    },
    {
      "cell_type": "markdown",
      "metadata": {
        "id": "X6TKBogIisNT"
      },
      "source": [
        "## Use classes and objects with dot notation\n",
        "\n"
      ]
    },
    {
      "cell_type": "markdown",
      "metadata": {
        "id": "srx3voPVKPop"
      },
      "source": [
        "#### Interacting with Special Class Methods and Other Class Techniques\n",
        "\n",
        "Class special methods have the signature ```__method__```:\n",
        "\n",
        "Examples include\n",
        "```\n",
        "__len__\n",
        "__call__\n",
        "__equal__\n",
        "\n",
        "```"
      ]
    },
    {
      "cell_type": "code",
      "metadata": {
        "id": "Uzzr1EhLxUnP",
        "colab": {
          "base_uri": "https://localhost:8080/"
        },
        "outputId": "ec4bc0d9-8ccd-4633-c2d6-b6b61d71ce32"
      },
      "source": [
        "l = [1,2]\n",
        "len(l)\n",
        "#class Foo:pass\n",
        "#f = Foo()\n",
        "#len(f)"
      ],
      "execution_count": null,
      "outputs": [
        {
          "output_type": "execute_result",
          "data": {
            "text/plain": [
              "2"
            ]
          },
          "metadata": {
            "tags": []
          },
          "execution_count": 96
        }
      ]
    },
    {
      "cell_type": "code",
      "metadata": {
        "id": "IJ48YIJUKoYz",
        "colab": {
          "base_uri": "https://localhost:8080/"
        },
        "outputId": "9268cd41-d361-4e80-e26a-9ba0e1404d8c"
      },
      "source": [
        "class JonJones:\n",
        "  \"\"\"Jon Jones class with customized length\"\"\"\n",
        "  \n",
        "  def __len__(self):\n",
        "    return 84\n",
        "\n",
        "jon_jones = JonJones()\n",
        "len(jon_jones)"
      ],
      "execution_count": null,
      "outputs": [
        {
          "output_type": "execute_result",
          "data": {
            "text/plain": [
              "84"
            ]
          },
          "metadata": {
            "tags": []
          },
          "execution_count": 98
        }
      ]
    },
    {
      "cell_type": "code",
      "metadata": {
        "id": "bqGdWZB3UEos",
        "colab": {
          "base_uri": "https://localhost:8080/",
          "height": 204
        },
        "outputId": "a31a27f7-b967-4ab4-8d00-ae86ecf378f7"
      },
      "source": [
        "class foo():pass\n",
        "f = foo()\n",
        "f.red = \"red\"\n",
        "len(f)"
      ],
      "execution_count": null,
      "outputs": [
        {
          "output_type": "error",
          "ename": "TypeError",
          "evalue": "ignored",
          "traceback": [
            "\u001b[0;31m---------------------------------------------------------------------------\u001b[0m",
            "\u001b[0;31mTypeError\u001b[0m                                 Traceback (most recent call last)",
            "\u001b[0;32m<ipython-input-99-f0f0529fb27b>\u001b[0m in \u001b[0;36m<module>\u001b[0;34m()\u001b[0m\n\u001b[1;32m      2\u001b[0m \u001b[0mf\u001b[0m \u001b[0;34m=\u001b[0m \u001b[0mfoo\u001b[0m\u001b[0;34m(\u001b[0m\u001b[0;34m)\u001b[0m\u001b[0;34m\u001b[0m\u001b[0;34m\u001b[0m\u001b[0m\n\u001b[1;32m      3\u001b[0m \u001b[0mf\u001b[0m\u001b[0;34m.\u001b[0m\u001b[0mred\u001b[0m \u001b[0;34m=\u001b[0m \u001b[0;34m\"red\"\u001b[0m\u001b[0;34m\u001b[0m\u001b[0;34m\u001b[0m\u001b[0m\n\u001b[0;32m----> 4\u001b[0;31m \u001b[0mlen\u001b[0m\u001b[0;34m(\u001b[0m\u001b[0mf\u001b[0m\u001b[0;34m)\u001b[0m\u001b[0;34m\u001b[0m\u001b[0;34m\u001b[0m\u001b[0m\n\u001b[0m",
            "\u001b[0;31mTypeError\u001b[0m: object of type 'foo' has no len()"
          ]
        }
      ]
    },
    {
      "cell_type": "markdown",
      "metadata": {
        "id": "tbTyE8mrKvcj"
      },
      "source": [
        "@property decorator is a shortcut for creating a read only property"
      ]
    },
    {
      "cell_type": "code",
      "metadata": {
        "id": "QtQiqN9JKq_X",
        "colab": {
          "base_uri": "https://localhost:8080/"
        },
        "outputId": "650a0e0c-d125-435c-86ea-cebeb50bebf9"
      },
      "source": [
        "class JonJones:\n",
        "  \"\"\"Jon Jones class with read only property\"\"\"\n",
        "  \n",
        "  @property\n",
        "  def reach(self):\n",
        "    return 84\n",
        "\n",
        "jon_jones = JonJones()\n",
        "jon_jones.reach\n",
        "#jon_jones.reach = 85 #cannot set\n",
        "jon_jones.length = 85\n",
        "jon_jones.length"
      ],
      "execution_count": null,
      "outputs": [
        {
          "output_type": "execute_result",
          "data": {
            "text/plain": [
              "85"
            ]
          },
          "metadata": {
            "tags": []
          },
          "execution_count": 103
        }
      ]
    },
    {
      "cell_type": "code",
      "metadata": {
        "id": "WURULjSfO7sc",
        "colab": {
          "base_uri": "https://localhost:8080/",
          "height": 181
        },
        "outputId": "e447db71-a08a-4ecb-89d2-5aea3a98e741"
      },
      "source": [
        "jon_jones.reach\n",
        "jon_jones.reach = 85"
      ],
      "execution_count": null,
      "outputs": [
        {
          "output_type": "error",
          "ename": "AttributeError",
          "evalue": "ignored",
          "traceback": [
            "\u001b[0;31m---------------------------------------------------------------------------\u001b[0m",
            "\u001b[0;31mAttributeError\u001b[0m                            Traceback (most recent call last)",
            "\u001b[0;32m<ipython-input-127-c873d37e7994>\u001b[0m in \u001b[0;36m<module>\u001b[0;34m()\u001b[0m\n\u001b[1;32m      1\u001b[0m \u001b[0mjon_jones\u001b[0m\u001b[0;34m.\u001b[0m\u001b[0mreach\u001b[0m\u001b[0;34m\u001b[0m\u001b[0;34m\u001b[0m\u001b[0m\n\u001b[0;32m----> 2\u001b[0;31m \u001b[0mjon_jones\u001b[0m\u001b[0;34m.\u001b[0m\u001b[0mreach\u001b[0m \u001b[0;34m=\u001b[0m \u001b[0;36m85\u001b[0m\u001b[0;34m\u001b[0m\u001b[0;34m\u001b[0m\u001b[0m\n\u001b[0m",
            "\u001b[0;31mAttributeError\u001b[0m: can't set attribute"
          ]
        }
      ]
    },
    {
      "cell_type": "markdown",
      "metadata": {
        "id": "grcojpMOKyao"
      },
      "source": [
        "@staticmethod bolts a function onto a class"
      ]
    },
    {
      "cell_type": "code",
      "metadata": {
        "id": "vctQpjK-K0AE",
        "colab": {
          "base_uri": "https://localhost:8080/"
        },
        "outputId": "8a22e454-7a07-41e0-a593-c5d6f8e230a1"
      },
      "source": [
        "class JonJones:\n",
        "  \"\"\"Jon Jones Class with 'bolt-on' reach method\n",
        "  self isn't needed\n",
        "  \"\"\"\n",
        "  \n",
        "  @staticmethod\n",
        "  def reach():\n",
        "    return 84\n",
        "\n",
        "jon_jones =JonJones()\n",
        "jon_jones.reach()"
      ],
      "execution_count": null,
      "outputs": [
        {
          "output_type": "execute_result",
          "data": {
            "text/plain": [
              "84"
            ]
          },
          "metadata": {
            "tags": []
          },
          "execution_count": 106
        }
      ]
    },
    {
      "cell_type": "markdown",
      "metadata": {
        "id": "dhabI3o_dWd7"
      },
      "source": [
        "#### Immutability concepts with Objects"
      ]
    },
    {
      "cell_type": "code",
      "metadata": {
        "id": "8S3WDMvVdJaz"
      },
      "source": [
        "class Foo:\n",
        "  \n",
        "  @property\n",
        "  def unbreakable(self):\n",
        "    return \"David\"\n",
        "\n"
      ],
      "execution_count": null,
      "outputs": []
    },
    {
      "cell_type": "code",
      "metadata": {
        "id": "xpR4L8XVdd1Q",
        "colab": {
          "base_uri": "https://localhost:8080/",
          "height": 35
        },
        "outputId": "4f774875-7914-46ca-ae6c-09eb437ca4fd"
      },
      "source": [
        "foo = Foo()\n",
        "foo.unbreakable "
      ],
      "execution_count": null,
      "outputs": [
        {
          "output_type": "execute_result",
          "data": {
            "application/vnd.google.colaboratory.intrinsic+json": {
              "type": "string"
            },
            "text/plain": [
              "'David'"
            ]
          },
          "metadata": {
            "tags": []
          },
          "execution_count": 108
        }
      ]
    },
    {
      "cell_type": "code",
      "metadata": {
        "id": "GZwabNvndsCs"
      },
      "source": [
        "foo.not_unbreakable = \"Elijah\""
      ],
      "execution_count": null,
      "outputs": []
    },
    {
      "cell_type": "markdown",
      "metadata": {
        "id": "VuSZ9Y49egiO"
      },
      "source": [
        "@property acts like an read only attribute, but it isn't"
      ]
    },
    {
      "cell_type": "code",
      "metadata": {
        "id": "A4yseU7fecuW",
        "colab": {
          "base_uri": "https://localhost:8080/"
        },
        "outputId": "f971eba4-7596-426c-ca8d-6481649df466"
      },
      "source": [
        "foo.__dict__"
      ],
      "execution_count": null,
      "outputs": [
        {
          "output_type": "execute_result",
          "data": {
            "text/plain": [
              "{'not_unbreakable': 'Elijah'}"
            ]
          },
          "metadata": {
            "tags": []
          },
          "execution_count": 110
        }
      ]
    },
    {
      "cell_type": "markdown",
      "metadata": {
        "id": "DmLJWuUtfE2-"
      },
      "source": [
        "You can change an attribute on the object, but not the read only property"
      ]
    },
    {
      "cell_type": "code",
      "metadata": {
        "id": "lQzn9BCoeeLu"
      },
      "source": [
        "foo.not_unbreakable = \"Mr. Glass\""
      ],
      "execution_count": null,
      "outputs": []
    },
    {
      "cell_type": "code",
      "metadata": {
        "id": "0iS_9Q0AfWtY",
        "colab": {
          "base_uri": "https://localhost:8080/",
          "height": 169
        },
        "outputId": "4cbc63f9-3d8e-462e-d175-a7e95679c970"
      },
      "source": [
        "foo.unbreakable = \"Bruce Willis\""
      ],
      "execution_count": null,
      "outputs": [
        {
          "output_type": "error",
          "ename": "AttributeError",
          "evalue": "ignored",
          "traceback": [
            "\u001b[0;31m---------------------------------------------------------------------------\u001b[0m",
            "\u001b[0;31mAttributeError\u001b[0m                            Traceback (most recent call last)",
            "\u001b[0;32m<ipython-input-112-4bc1ea5ae699>\u001b[0m in \u001b[0;36m<module>\u001b[0;34m()\u001b[0m\n\u001b[0;32m----> 1\u001b[0;31m \u001b[0mfoo\u001b[0m\u001b[0;34m.\u001b[0m\u001b[0munbreakable\u001b[0m \u001b[0;34m=\u001b[0m \u001b[0;34m\"Bruce Willis\"\u001b[0m\u001b[0;34m\u001b[0m\u001b[0;34m\u001b[0m\u001b[0m\n\u001b[0m",
            "\u001b[0;31mAttributeError\u001b[0m: can't set attribute"
          ]
        }
      ]
    },
    {
      "cell_type": "code",
      "metadata": {
        "id": "pBTeTbnRKG_k"
      },
      "source": [
        ""
      ],
      "execution_count": null,
      "outputs": []
    },
    {
      "cell_type": "markdown",
      "metadata": {
        "id": "pA8QZjLiaFqL"
      },
      "source": [
        "## Learn to loop with for loops"
      ]
    },
    {
      "cell_type": "markdown",
      "metadata": {
        "id": "kkrALu_wvRMQ"
      },
      "source": [
        "### Using Loops\n",
        "\n",
        "The for loop is one of the most fundamental control structures in Python.\n",
        "One common pattern is to use the range function to generate a range of values, then to iterate on them."
      ]
    },
    {
      "cell_type": "markdown",
      "metadata": {
        "id": "w-jc1fbg9p9q"
      },
      "source": [
        "#### Using a Simple For Loop\n",
        "\n",
        "built in range() function creates an iterable"
      ]
    },
    {
      "cell_type": "code",
      "metadata": {
        "id": "abHaxRTlth7c",
        "colab": {
          "base_uri": "https://localhost:8080/",
          "height": 34
        },
        "outputId": "82c8779b-8a91-428f-903f-97f2022a05a2"
      },
      "source": [
        "res = range(3)\n",
        "res"
      ],
      "execution_count": null,
      "outputs": [
        {
          "output_type": "execute_result",
          "data": {
            "text/plain": [
              "range(0, 3)"
            ]
          },
          "metadata": {
            "tags": []
          },
          "execution_count": 11
        }
      ]
    },
    {
      "cell_type": "code",
      "metadata": {
        "id": "tnUuKBtlvWz5",
        "colab": {
          "base_uri": "https://localhost:8080/",
          "height": 102
        },
        "outputId": "32f9f15f-2f04-4aa5-9913-4bf2a692bf4a"
      },
      "source": [
        "for i in range(1,6):\n",
        "    print(i)"
      ],
      "execution_count": null,
      "outputs": [
        {
          "output_type": "stream",
          "text": [
            "1\n",
            "2\n",
            "3\n",
            "4\n",
            "5\n"
          ],
          "name": "stdout"
        }
      ]
    },
    {
      "cell_type": "markdown",
      "metadata": {
        "id": "ANmx4hYRvdXF"
      },
      "source": [
        "#### For loop over an iterable (list)\n",
        "\n",
        "Another common pattern is to iterate on a list (or any iterable)"
      ]
    },
    {
      "cell_type": "code",
      "metadata": {
        "id": "K_XrmKB6vYHw",
        "colab": {
          "base_uri": "https://localhost:8080/",
          "height": 68
        },
        "outputId": "fb9ec401-2f76-4e22-8168-994b76f292aa"
      },
      "source": [
        "friends = [\"Moby\", \"Ahab\", \"Stubb\"]\n",
        "for friend in friends:\n",
        "  print(f\"With friends like {friend} who needs a Yelp review?\")"
      ],
      "execution_count": null,
      "outputs": [
        {
          "output_type": "stream",
          "text": [
            "With friends like Moby who needs a Yelp review?\n",
            "With friends like Ahab who needs a Yelp review?\n",
            "With friends like Stubb who needs a Yelp review?\n"
          ],
          "name": "stdout"
        }
      ]
    },
    {
      "cell_type": "markdown",
      "metadata": {
        "id": "bBzfSYvQaLUk"
      },
      "source": [
        "## Repeat with while loops"
      ]
    },
    {
      "cell_type": "markdown",
      "metadata": {
        "id": "UMsckwkIivgc"
      },
      "source": [
        "### While Loops\n"
      ]
    },
    {
      "cell_type": "code",
      "metadata": {
        "id": "XA-2E-uNvhUK",
        "colab": {
          "base_uri": "https://localhost:8080/",
          "height": 102
        },
        "outputId": "eeab10d9-78f7-452f-ea6c-6b411acf15ee"
      },
      "source": [
        "def sea_life():\n",
        "    animals = [\"whale\", \"orca\",\"porpoise\", \"moby_dick\"]\n",
        "    print(f\"There are many creatures in the sea: {len(animals)}\")\n",
        "    for animal in animals:\n",
        "        yield animal\n",
        "\n",
        "animals = sea_life()\n",
        "count = 0\n",
        "\n",
        "while next(animals) != \"moby_dick\":\n",
        "    count +=1\n",
        "    print(f\"hold your fire #{count}, it is just a common sea creature\")\n",
        "else:\n",
        "    count +=1\n",
        "    print(f\"Fire the harpoon, we spotted Moby Dick #{count}\")"
      ],
      "execution_count": null,
      "outputs": [
        {
          "output_type": "stream",
          "text": [
            "There are many creatures in the sea: 4\n",
            "hold your fire #1, it is just a common sea creature\n",
            "hold your fire #2, it is just a common sea creature\n",
            "hold your fire #3, it is just a common sea creature\n",
            "Fire the harpoon, we spotted Moby Dick #4\n"
          ],
          "name": "stdout"
        }
      ]
    },
    {
      "cell_type": "markdown",
      "metadata": {
        "id": "O4LapCrFbex3"
      },
      "source": [
        "## Learn to handle exceptions"
      ]
    },
    {
      "cell_type": "markdown",
      "metadata": {
        "id": "9wWsG9Cdwme0"
      },
      "source": [
        "### Try/Except\n",
        "\n",
        "There is an expression in sports, \"Always be prepared to do your best on your worst day\". Try/Except statements are similar. It is always a good idea to think about what happens when something goes wrong in code that is written. Try/Except blocks allow for this."
      ]
    },
    {
      "cell_type": "markdown",
      "metadata": {
        "id": "1vlb0DVAHVHC"
      },
      "source": [
        "#### Using try/except\n",
        "\n",
        "Catching a specific exception"
      ]
    },
    {
      "cell_type": "code",
      "metadata": {
        "id": "G94tPojywjkt",
        "colab": {
          "base_uri": "https://localhost:8080/",
          "height": 85
        },
        "outputId": "497be1ae-13cf-413a-c810-36678758289a"
      },
      "source": [
        "whales = [\"Keiko\", \"Shamu\", \"Moby Dick\"]\n",
        "while True:\n",
        "    try:\n",
        "        whale = whales.pop()\n",
        "        print(f\"I want this whale {whale}!\")\n",
        "    except IndexError:\n",
        "        print(\"There are no more whales to be had\")\n",
        "        break"
      ],
      "execution_count": null,
      "outputs": [
        {
          "output_type": "stream",
          "text": [
            "I want this whale Moby Dick!\n",
            "I want this whale Shamu!\n",
            "I want this whale Keiko!\n",
            "There are no more whales to be had\n"
          ],
          "name": "stdout"
        }
      ]
    },
    {
      "cell_type": "markdown",
      "metadata": {
        "id": "YXDgzYG_H1Ke"
      },
      "source": [
        "#### Logging exceptions\n",
        "\n",
        "It is a best practice to log exception blocks"
      ]
    },
    {
      "cell_type": "code",
      "metadata": {
        "id": "O9mOcKsU5EAU",
        "colab": {
          "base_uri": "https://localhost:8080/",
          "height": 170
        },
        "outputId": "30bba4f9-e692-40a6-de1c-a76a3ca7415b"
      },
      "source": [
        "import logging\n",
        "\n",
        "whales = [\"Keiko\", \"Shamu\", \"Moby Dick\"]\n",
        "while True:\n",
        "    try:\n",
        "        whale = whales.pop()\n",
        "        print(f\"I want this whale {whale}!\")\n",
        "    except IndexError:\n",
        "        logging.exception(f\"Exception Logged:  There are no more tournaments\")\n",
        "        print(\"There are no more whales to be had\")\n",
        "        break"
      ],
      "execution_count": null,
      "outputs": [
        {
          "output_type": "stream",
          "text": [
            "ERROR:root:Exception Logged:  There are no more tournaments\n",
            "Traceback (most recent call last):\n",
            "  File \"<ipython-input-17-6e00ea1cd041>\", line 6, in <module>\n",
            "    whale = whales.pop()\n",
            "IndexError: pop from empty list\n"
          ],
          "name": "stderr"
        },
        {
          "output_type": "stream",
          "text": [
            "I want this whale Moby Dick!\n",
            "I want this whale Shamu!\n",
            "I want this whale Keiko!\n",
            "There are no more whales to be had\n"
          ],
          "name": "stdout"
        }
      ]
    },
    {
      "cell_type": "markdown",
      "metadata": {
        "id": "EXsL-XdRhiQ4"
      },
      "source": [
        "## Use conditionals"
      ]
    },
    {
      "cell_type": "markdown",
      "metadata": {
        "id": "88ORBTOPvyKy"
      },
      "source": [
        "### Using if/else/break/continue/pass statements \n"
      ]
    },
    {
      "cell_type": "markdown",
      "metadata": {
        "id": "e4RVlT2_-4Tj"
      },
      "source": [
        "#### Using if/elif/else blocks\n",
        "If/Else statements are a common way to branch between decisions. In the example below if/elif are used to match a branch. If there are no matches, the last \"else\" statement is run."
      ]
    },
    {
      "cell_type": "code",
      "metadata": {
        "id": "4rPN8VYgvvsL"
      },
      "source": [
        "def recommended_whale(emotion):\n",
        "    \"\"\"Recommends a whale based on emotion\"\"\"\n",
        "    \n",
        "    if emotion == \"angry\":\n",
        "        print(f\"You seem very {emotion}, I have just the whale for you:  Moby Dick!\")\n",
        "    elif emotion == \"happy\":\n",
        "        print(f\"You seem very {emotion}, I have just the whale for you:  Shamu!\")\n",
        "    else:\n",
        "        print(f\"You seem very {emotion}, I have no whale to recommend: How about a Crocodile instead?\")"
      ],
      "execution_count": null,
      "outputs": []
    },
    {
      "cell_type": "code",
      "metadata": {
        "id": "liJPIg7dv4kq",
        "colab": {
          "base_uri": "https://localhost:8080/",
          "height": 34
        },
        "outputId": "e3bd7464-0e5c-4fcd-d770-8abb5f66d6e3"
      },
      "source": [
        "recommended_whale(\"sad\")"
      ],
      "execution_count": null,
      "outputs": [
        {
          "output_type": "stream",
          "text": [
            "You seem very sad, I have no whale to recommend: How about a Crocodile instead?\n"
          ],
          "name": "stdout"
        }
      ]
    },
    {
      "cell_type": "markdown",
      "metadata": {
        "id": "Cex2V7WFN9dz"
      },
      "source": [
        "#### Single line conditional asssigment"
      ]
    },
    {
      "cell_type": "code",
      "metadata": {
        "id": "pN0BSWFyOFNA",
        "colab": {
          "base_uri": "https://localhost:8080/",
          "height": 34
        },
        "outputId": "61240197-9be2-4e41-e3cd-851cf232b8c2"
      },
      "source": [
        "happy = False\n",
        "cloudy = False\n",
        "\n",
        "happy = False if cloudy else True\n",
        "  \n",
        "happy"
      ],
      "execution_count": null,
      "outputs": [
        {
          "output_type": "execute_result",
          "data": {
            "text/plain": [
              "True"
            ]
          },
          "metadata": {
            "tags": []
          },
          "execution_count": 6
        }
      ]
    },
    {
      "cell_type": "markdown",
      "metadata": {
        "id": "jYEv2fd4_BRO"
      },
      "source": [
        "#### Using break"
      ]
    },
    {
      "cell_type": "code",
      "metadata": {
        "id": "n6uxAIVc_B1F",
        "colab": {
          "base_uri": "https://localhost:8080/",
          "height": 102
        },
        "outputId": "9cb686c2-7a98-4587-f3b2-56f0ee4cf3b5"
      },
      "source": [
        "crew_members = 0\n",
        "while True:\n",
        "  crew_members +=1\n",
        "  print(f\"Moby Dick is attempting to eat crew member {crew_members}\")\n",
        "  if crew_members > 3:\n",
        "    print(f\"Moby Dick is very full, he ate {crew_members} and couldn't possibly eat any more\")\n",
        "    break\n",
        "  "
      ],
      "execution_count": null,
      "outputs": [
        {
          "output_type": "stream",
          "text": [
            "Moby Dick is attempting to eat crew member 1\n",
            "Moby Dick is attempting to eat crew member 2\n",
            "Moby Dick is attempting to eat crew member 3\n",
            "Moby Dick is attempting to eat crew member 4\n",
            "Moby Dick is very full, he ate 4 and couldn't possibly eat any more\n"
          ],
          "name": "stdout"
        }
      ]
    },
    {
      "cell_type": "markdown",
      "metadata": {
        "id": "KB7SreVYAHsH"
      },
      "source": [
        "#### Using continue"
      ]
    },
    {
      "cell_type": "code",
      "metadata": {
        "id": "a56Y60MpAH1t",
        "colab": {
          "base_uri": "https://localhost:8080/",
          "height": 34
        },
        "outputId": "44c9934e-6b49-4c26-8331-395782d2cf4a"
      },
      "source": [
        "whales = [\"Keiko\", \"Shamu\", \"Moby Dick\"]\n",
        "for whale in whales:\n",
        "  if not whale == \"Moby Dick\":\n",
        "    continue\n",
        "  print(f\"My favorite whale is {whale}\")"
      ],
      "execution_count": null,
      "outputs": [
        {
          "output_type": "stream",
          "text": [
            "My favorite whale is Moby Dick\n"
          ],
          "name": "stdout"
        }
      ]
    },
    {
      "cell_type": "markdown",
      "metadata": {
        "id": "PgcB-3dUB2I4"
      },
      "source": [
        "#### Using pass\n",
        "\n",
        "The pass keyword is often a placeholder to define a class or function"
      ]
    },
    {
      "cell_type": "code",
      "metadata": {
        "id": "SsucVX0JB2Pe",
        "colab": {
          "base_uri": "https://localhost:8080/",
          "height": 130
        },
        "outputId": "72578bae-e1d6-4935-befb-aa9580f102b9"
      },
      "source": [
        "def my_func(): pass\n",
        "\n",
        "\n",
        "my_func()"
      ],
      "execution_count": null,
      "outputs": [
        {
          "output_type": "error",
          "ename": "IndentationError",
          "evalue": "ignored",
          "traceback": [
            "\u001b[0;36m  File \u001b[0;32m\"<ipython-input-10-e2f9698e90a7>\"\u001b[0;36m, line \u001b[0;32m4\u001b[0m\n\u001b[0;31m    my_func()\u001b[0m\n\u001b[0m          ^\u001b[0m\n\u001b[0;31mIndentationError\u001b[0m\u001b[0;31m:\u001b[0m expected an indented block\n"
          ]
        }
      ]
    },
    {
      "cell_type": "code",
      "metadata": {
        "id": "nRn_iPJqNrFu",
        "colab": {
          "base_uri": "https://localhost:8080/",
          "height": 34
        },
        "outputId": "bc55f73d-15de-4c50-c4a2-25c8b39d4d21"
      },
      "source": [
        "class SomeClass: pass\n",
        "\n",
        "some_class = SomeClass()\n",
        "\n",
        "some_class"
      ],
      "execution_count": null,
      "outputs": [
        {
          "output_type": "execute_result",
          "data": {
            "text/plain": [
              "<__main__.SomeClass at 0x7fbdeb4e2a90>"
            ]
          },
          "metadata": {
            "tags": []
          },
          "execution_count": 11
        }
      ]
    }
  ]
}